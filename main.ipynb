{
 "cells": [
  {
   "cell_type": "code",
   "execution_count": 1,
   "metadata": {},
   "outputs": [
    {
     "name": "stderr",
     "output_type": "stream",
     "text": [
      "c:\\Users\\prask\\OneDrive\\Desktop\\CODING\\Text Summarization\\Summarization\\venv\\Lib\\site-packages\\tqdm\\auto.py:21: TqdmWarning: IProgress not found. Please update jupyter and ipywidgets. See https://ipywidgets.readthedocs.io/en/stable/user_install.html\n",
      "  from .autonotebook import tqdm as notebook_tqdm\n"
     ]
    }
   ],
   "source": [
    "import torch\n",
    "from transformers import T5Tokenizer, T5ForConditionalGeneration\n",
    "from textblob import TextBlob\n",
    "import tkinter as tk"
   ]
  },
  {
   "cell_type": "code",
   "execution_count": 2,
   "metadata": {},
   "outputs": [
    {
     "name": "stderr",
     "output_type": "stream",
     "text": [
      "You are using the default legacy behaviour of the <class 'transformers.models.t5.tokenization_t5.T5Tokenizer'>. If you see this, DO NOT PANIC! This is expected, and simply means that the `legacy` (previous) behavior will be used so nothing changes for you. If you want to use the new behaviour, set `legacy=False`. This should only be set if you understand what it means, and thouroughly read the reason why this was added as explained in https://github.com/huggingface/transformers/pull/24565\n"
     ]
    }
   ],
   "source": [
    "# initialize the pretrained model\n",
    "import sentencepiece\n",
    "model = T5ForConditionalGeneration.from_pretrained('t5-small')\n",
    "tokenizer = T5Tokenizer.from_pretrained('t5-small')\n",
    "device = torch.device('cpu')"
   ]
  },
  {
   "cell_type": "code",
   "execution_count": 3,
   "metadata": {},
   "outputs": [
    {
     "data": {
      "text/plain": [
       "''"
      ]
     },
     "execution_count": 3,
     "metadata": {},
     "output_type": "execute_result"
    }
   ],
   "source": [
    "root = tk.Tk()\n",
    "root.title(\"Text Summarizer\")\n",
    "root.geometry('1200x600')"
   ]
  },
  {
   "cell_type": "code",
   "execution_count": 4,
   "metadata": {},
   "outputs": [],
   "source": [
    "textlabel = tk.Label(root, text=\"Text\")\n",
    "textlabel.pack()\n",
    "text = tk.Text(root, height=15, width=140)\n",
    "text.pack()"
   ]
  },
  {
   "cell_type": "code",
   "execution_count": 5,
   "metadata": {},
   "outputs": [],
   "source": [
    "slabel = tk.Label(root, text=\"Summary\")\n",
    "slabel.pack()\n",
    "\n",
    "summary_text = tk.Text(root, height=5, width=140)\n",
    "summary_text.config(state='disabled', bg='#dddddd')\n",
    "summary_text.pack()"
   ]
  },
  {
   "cell_type": "code",
   "execution_count": 6,
   "metadata": {},
   "outputs": [],
   "source": [
    "selabel = tk.Label(root, text=\"Sentiment Analysis\")\n",
    "selabel.pack()\n",
    "sentiment_analysis = tk.Text(root, height=1, width=140)\n",
    "sentiment_analysis.config(state='disabled',bg='#dddddd')\n",
    "sentiment_analysis.pack()"
   ]
  },
  {
   "cell_type": "code",
   "execution_count": 7,
   "metadata": {},
   "outputs": [],
   "source": [
    "def summarize():\n",
    "    # Input text\n",
    "    input_text = text.get('1.0', \"end\").strip()\n",
    "    \n",
    "    # Preprocess the input text\n",
    "    preprocessed_text = input_text.strip().replace('\\n', '')\n",
    "    t5_input_text = 'summarize: ' + preprocessed_text\n",
    "    \n",
    "    # Tokenize and generate summary\n",
    "    tokenized_text = tokenizer.encode(t5_input_text, return_tensors='pt', max_length=512, truncation=True).to(device)\n",
    "    summary_ids = model.generate(tokenized_text, min_length=30, max_length=120)\n",
    "    summary = tokenizer.decode(summary_ids[0], skip_special_tokens=True)\n",
    "    \n",
    "    # Perform sentiment analysis\n",
    "    analysis = TextBlob(summary)\n",
    "    sentiment = f'Sentiment: {\"positive\" if analysis.polarity > 0 else \"negative\" if analysis.polarity < 0 else \"neutral\"}'\n",
    "    \n",
    "    # Update the summary text widget\n",
    "    summary_text.config(state='normal')\n",
    "    summary_text.delete('1.0', \"end\")\n",
    "    summary_text.insert(\"insert\", summary)\n",
    "    summary_text.config(state='disabled', bg='#dddddd')\n",
    "    \n",
    "    # Update the sentiment analysis text widget\n",
    "    sentiment_analysis.config(state='normal')\n",
    "    sentiment_analysis.delete('1.0', \"end\")\n",
    "    sentiment_analysis.insert(\"insert\", sentiment)\n",
    "    sentiment_analysis.config(state='disabled', bg='#dddddd')\n"
   ]
  },
  {
   "cell_type": "code",
   "execution_count": 8,
   "metadata": {},
   "outputs": [],
   "source": [
    "btn = tk.Button(root, text=\"Summarize\", command=summarize)\n",
    "btn.pack()\n",
    "\n",
    "root.mainloop()\n"
   ]
  }
 ],
 "metadata": {
  "kernelspec": {
   "display_name": "venv",
   "language": "python",
   "name": "python3"
  },
  "language_info": {
   "codemirror_mode": {
    "name": "ipython",
    "version": 3
   },
   "file_extension": ".py",
   "mimetype": "text/x-python",
   "name": "python",
   "nbconvert_exporter": "python",
   "pygments_lexer": "ipython3",
   "version": "3.11.2"
  },
  "orig_nbformat": 4
 },
 "nbformat": 4,
 "nbformat_minor": 2
}
